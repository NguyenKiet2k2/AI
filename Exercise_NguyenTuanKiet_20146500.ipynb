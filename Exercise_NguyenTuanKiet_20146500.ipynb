{
  "nbformat": 4,
  "nbformat_minor": 0,
  "metadata": {
    "colab": {
      "provenance": [],
      "authorship_tag": "ABX9TyOcT5/Cd1Rs51Z/V3bYinIG",
      "include_colab_link": true
    },
    "kernelspec": {
      "name": "python3",
      "display_name": "Python 3"
    },
    "language_info": {
      "name": "python"
    }
  },
  "cells": [
    {
      "cell_type": "markdown",
      "metadata": {
        "id": "view-in-github",
        "colab_type": "text"
      },
      "source": [
        "<a href=\"https://colab.research.google.com/github/NguyenKiet2k2/BTVN_T2/blob/main/Exercise_NguyenTuanKiet_20146500.ipynb\" target=\"_parent\"><img src=\"https://colab.research.google.com/assets/colab-badge.svg\" alt=\"Open In Colab\"/></a>"
      ]
    },
    {
      "cell_type": "code",
      "execution_count": null,
      "metadata": {
        "id": "-jxwlXyl8j2R"
      },
      "outputs": [],
      "source": [
        "import pandas as pd\n",
        "url='http://winterolympicsmedals.com/medals.csv'\n",
        "data = pd.read_csv(url)\n",
        "data = pd.read_csv(url,sep=',')\n",
        "data = data[(data['Year']>2000)&(data['Year']<2008)&(data['NOC']=='FIN')]\n",
        "data.groupby('Medal').count()\n"
      ]
    },
    {
      "cell_type": "code",
      "source": [
        "import pandas as pd\n",
        "url = 'http://winterolympicsmedals.com/medals.csv'\n",
        "data = pd.read_csv(url)\n",
        "data = pd.read_csv(url,sep=',')\n",
        "data.groupby(['Sport','Medal']).head(20)\n",
        "data.groupby(['Sport','Medal']).count()\n"
      ],
      "metadata": {
        "id": "K0kjBRSk9Dwo"
      },
      "execution_count": null,
      "outputs": []
    }
  ]
}