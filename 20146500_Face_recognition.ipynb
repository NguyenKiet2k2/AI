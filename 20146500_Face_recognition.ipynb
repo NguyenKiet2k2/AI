{
  "nbformat": 4,
  "nbformat_minor": 0,
  "metadata": {
    "colab": {
      "provenance": [],
      "authorship_tag": "ABX9TyM2IQlwEvtzKGP28p5jM+oA",
      "include_colab_link": true
    },
    "kernelspec": {
      "name": "python3",
      "display_name": "Python 3"
    },
    "language_info": {
      "name": "python"
    }
  },
  "cells": [
    {
      "cell_type": "markdown",
      "metadata": {
        "id": "view-in-github",
        "colab_type": "text"
      },
      "source": [
        "<a href=\"https://colab.research.google.com/github/NguyenKiet2k2/AI/blob/main/20146500_Face_recognition.ipynb\" target=\"_parent\"><img src=\"https://colab.research.google.com/assets/colab-badge.svg\" alt=\"Open In Colab\"/></a>"
      ]
    },
    {
      "cell_type": "code",
      "execution_count": 20,
      "metadata": {
        "colab": {
          "base_uri": "https://localhost:8080/"
        },
        "id": "QJWd82OzyrVa",
        "outputId": "88491fea-c1ee-45d0-a5ef-f513f081b49e"
      },
      "outputs": [
        {
          "output_type": "stream",
          "name": "stdout",
          "text": [
            "Drive already mounted at /content/drive; to attempt to forcibly remount, call drive.mount(\"/content/drive\", force_remount=True).\n"
          ]
        }
      ],
      "source": [
        "from google.colab import drive\n",
        "drive.mount('/content/drive')"
      ]
    },
    {
      "cell_type": "code",
      "source": [
        "# Khai báo và sử dụng các thư viện sau\n",
        "from sklearn.model_selection import train_test_split\n",
        "import matplotlib.pyplot as plt\n",
        "import os\n",
        "import numpy as np\n",
        "import tensorflow as tf\n",
        "from keras.utils import np_utils\n",
        "from keras.models import Sequential\n",
        "from keras.layers import Dense, Activation, Dropout, Conv2D, MaxPooling2D, Flatten,  LeakyReLU\n",
        "from tensorflow.keras.optimizers import SGD, RMSprop\n",
        "from keras.callbacks import EarlyStopping, ModelCheckpoint\n",
        "from sklearn.utils import validation \n",
        "from sklearn import preprocessing\n",
        "from tensorflow.keras.utils import to_categorical\n",
        "from tensorflow.keras.models import load_model, Sequential\n",
        "from tensorflow.keras.utils import load_img, img_to_array\n",
        "from tensorflow.keras.preprocessing.image import ImageDataGenerator\n"
      ],
      "metadata": {
        "id": "IycmK5Zf6gMG"
      },
      "execution_count": 2,
      "outputs": []
    },
    {
      "cell_type": "code",
      "source": [
        "%cd /content/drive/MyDrive/FACE"
      ],
      "metadata": {
        "colab": {
          "base_uri": "https://localhost:8080/"
        },
        "id": "QnsUoebn6pKE",
        "outputId": "6755a052-a049-420b-b900-605ccb1d6918"
      },
      "execution_count": 3,
      "outputs": [
        {
          "output_type": "stream",
          "name": "stdout",
          "text": [
            "/content/drive/MyDrive/FACE\n"
          ]
        }
      ]
    },
    {
      "cell_type": "code",
      "source": [
        "# Tạo ra class ImageDataGenerator để chỉnh sửa ảnh \n",
        "train=ImageDataGenerator(rescale=1./255, shear_range=0.2, zoom_range=0.2, horizontal_flip=True)"
      ],
      "metadata": {
        "id": "3PIuMzHB62IF"
      },
      "execution_count": 4,
      "outputs": []
    },
    {
      "cell_type": "code",
      "source": [
        "# Tạo bộ dữ liệu training set\n",
        "training_set=train.flow_from_directory('/content/drive/MyDrive/FACE/FACE_train', target_size=(30,40), batch_size=32, class_mode='categorical')"
      ],
      "metadata": {
        "colab": {
          "base_uri": "https://localhost:8080/"
        },
        "id": "bgjeIfQD6930",
        "outputId": "c911afba-9221-49c1-a938-52eda24ed064"
      },
      "execution_count": 22,
      "outputs": [
        {
          "output_type": "stream",
          "name": "stdout",
          "text": [
            "Found 622 images belonging to 14 classes.\n"
          ]
        }
      ]
    },
    {
      "cell_type": "code",
      "source": [
        "# Các nhãn có trong bộ dữ liệu training set\n",
        "training_set.class_indices"
      ],
      "metadata": {
        "colab": {
          "base_uri": "https://localhost:8080/"
        },
        "id": "58wPGlqLCH__",
        "outputId": "f301d373-f756-4ef5-9b06-33b7deef2d00"
      },
      "execution_count": 23,
      "outputs": [
        {
          "output_type": "execute_result",
          "data": {
            "text/plain": [
              "{'BAO THAI': 0,\n",
              " 'CHI LOC': 1,\n",
              " 'DUY NHAT': 2,\n",
              " 'FACE_test': 3,\n",
              " 'HOAI PHONG': 4,\n",
              " 'NGOC HIEU': 5,\n",
              " 'NGUYEN HOANG': 6,\n",
              " 'NHUT SANG': 7,\n",
              " 'QUANG PHUC': 8,\n",
              " 'QUOC TRUNG': 9,\n",
              " 'TAN DAT': 10,\n",
              " 'TAN PHAT': 11,\n",
              " 'TRONG LUAN': 12,\n",
              " 'VIET HA': 13}"
            ]
          },
          "metadata": {},
          "execution_count": 23
        }
      ]
    },
    {
      "cell_type": "code",
      "source": [
        "# Tạo ra mạng CNN để train mô hình\n",
        "model=Sequential()\n",
        "\n",
        "model.add(Conv2D(32,(3,3), activation='linear', kernel_initializer='he_uniform', padding='same',input_shape=(30,40,3))) \n",
        "model.add(LeakyReLU(alpha = 0.1))\n",
        "model.add(MaxPooling2D((2,2), padding = 'same'))\n",
        "\n",
        "\n",
        "model.add(Conv2D(64,(3,3), activation='linear', kernel_initializer='he_uniform', padding='same')) \n",
        "model.add(LeakyReLU(alpha = 0.1))\n",
        "model.add(MaxPooling2D((2,2), padding = 'same'))\n",
        "\n",
        "model.add(Conv2D(128,(3,3), activation='linear', kernel_initializer='he_uniform', padding='same')) \n",
        "model.add(LeakyReLU(alpha = 0.1))\n",
        "model.add(MaxPooling2D((2,2), padding = 'same'))\n",
        "\n",
        "model.add(Flatten())\n",
        "model.add(Dense(256,activation='linear',kernel_initializer='he_uniform'))\n",
        "model.add(Dropout(0.2))\n",
        "model.add(LeakyReLU(alpha = 0.1))\n",
        "model.add(Dense(14,activation='softmax'))\n",
        "model.summary()\n"
      ],
      "metadata": {
        "colab": {
          "base_uri": "https://localhost:8080/"
        },
        "id": "eVd5pHdwCxVA",
        "outputId": "8cdbc81d-49c0-404f-eb95-0063f019c223"
      },
      "execution_count": 27,
      "outputs": [
        {
          "output_type": "stream",
          "name": "stdout",
          "text": [
            "Model: \"sequential_2\"\n",
            "_________________________________________________________________\n",
            " Layer (type)                Output Shape              Param #   \n",
            "=================================================================\n",
            " conv2d_6 (Conv2D)           (None, 30, 40, 32)        896       \n",
            "                                                                 \n",
            " leaky_re_lu_8 (LeakyReLU)   (None, 30, 40, 32)        0         \n",
            "                                                                 \n",
            " max_pooling2d_6 (MaxPooling  (None, 15, 20, 32)       0         \n",
            " 2D)                                                             \n",
            "                                                                 \n",
            " conv2d_7 (Conv2D)           (None, 15, 20, 64)        18496     \n",
            "                                                                 \n",
            " leaky_re_lu_9 (LeakyReLU)   (None, 15, 20, 64)        0         \n",
            "                                                                 \n",
            " max_pooling2d_7 (MaxPooling  (None, 8, 10, 64)        0         \n",
            " 2D)                                                             \n",
            "                                                                 \n",
            " conv2d_8 (Conv2D)           (None, 8, 10, 128)        73856     \n",
            "                                                                 \n",
            " leaky_re_lu_10 (LeakyReLU)  (None, 8, 10, 128)        0         \n",
            "                                                                 \n",
            " max_pooling2d_8 (MaxPooling  (None, 4, 5, 128)        0         \n",
            " 2D)                                                             \n",
            "                                                                 \n",
            " flatten_2 (Flatten)         (None, 2560)              0         \n",
            "                                                                 \n",
            " dense_4 (Dense)             (None, 256)               655616    \n",
            "                                                                 \n",
            " dropout_2 (Dropout)         (None, 256)               0         \n",
            "                                                                 \n",
            " leaky_re_lu_11 (LeakyReLU)  (None, 256)               0         \n",
            "                                                                 \n",
            " dense_5 (Dense)             (None, 14)                3598      \n",
            "                                                                 \n",
            "=================================================================\n",
            "Total params: 752,462\n",
            "Trainable params: 752,462\n",
            "Non-trainable params: 0\n",
            "_________________________________________________________________\n"
          ]
        }
      ]
    },
    {
      "cell_type": "code",
      "source": [
        "# Gán biến lại để vẽ đồ thị, với 60 lần học (epochs), mỗi lần học thì chỉ học␣128 dữ liệu (batch_size), \n",
        "# khi sai số không thay đổi trong 30 lần học thì sẽ␣ dừng \n",
        "model.compile(optimizer='adam', loss='categorical_crossentropy', metrics=['accuracy'])\n",
        "history = model.fit(training_set,epochs=30,batch_size=128,verbose=1)\n"
      ],
      "metadata": {
        "colab": {
          "base_uri": "https://localhost:8080/"
        },
        "id": "0dTPUYtmC_4P",
        "outputId": "e7b6b342-c854-4fd7-d6ad-ea1f510a27f4"
      },
      "execution_count": 28,
      "outputs": [
        {
          "output_type": "stream",
          "name": "stdout",
          "text": [
            "Epoch 1/30\n",
            "20/20 [==============================] - 4s 147ms/step - loss: 2.7298 - accuracy: 0.2331\n",
            "Epoch 2/30\n",
            "20/20 [==============================] - 3s 135ms/step - loss: 0.9370 - accuracy: 0.7605\n",
            "Epoch 3/30\n",
            "20/20 [==============================] - 3s 139ms/step - loss: 0.3393 - accuracy: 0.9051\n",
            "Epoch 4/30\n",
            "20/20 [==============================] - 3s 132ms/step - loss: 0.1665 - accuracy: 0.9518\n",
            "Epoch 5/30\n",
            "20/20 [==============================] - 3s 132ms/step - loss: 0.1087 - accuracy: 0.9727\n",
            "Epoch 6/30\n",
            "20/20 [==============================] - 5s 226ms/step - loss: 0.0628 - accuracy: 0.9823\n",
            "Epoch 7/30\n",
            "20/20 [==============================] - 3s 135ms/step - loss: 0.0922 - accuracy: 0.9823\n",
            "Epoch 8/30\n",
            "20/20 [==============================] - 3s 131ms/step - loss: 0.0677 - accuracy: 0.9887\n",
            "Epoch 9/30\n",
            "20/20 [==============================] - 3s 162ms/step - loss: 0.0514 - accuracy: 0.9871\n",
            "Epoch 10/30\n",
            "20/20 [==============================] - 3s 130ms/step - loss: 0.0711 - accuracy: 0.9855\n",
            "Epoch 11/30\n",
            "20/20 [==============================] - 3s 133ms/step - loss: 0.0368 - accuracy: 0.9936\n",
            "Epoch 12/30\n",
            "20/20 [==============================] - 3s 141ms/step - loss: 0.0521 - accuracy: 0.9904\n",
            "Epoch 13/30\n",
            "20/20 [==============================] - 5s 224ms/step - loss: 0.0498 - accuracy: 0.9936\n",
            "Epoch 14/30\n",
            "20/20 [==============================] - 3s 130ms/step - loss: 0.0437 - accuracy: 0.9920\n",
            "Epoch 15/30\n",
            "20/20 [==============================] - 3s 131ms/step - loss: 0.0378 - accuracy: 0.9936\n",
            "Epoch 16/30\n",
            "20/20 [==============================] - 4s 220ms/step - loss: 0.0478 - accuracy: 0.9936\n",
            "Epoch 17/30\n",
            "20/20 [==============================] - 3s 133ms/step - loss: 0.0681 - accuracy: 0.9904\n",
            "Epoch 18/30\n",
            "20/20 [==============================] - 3s 130ms/step - loss: 0.0344 - accuracy: 0.9920\n",
            "Epoch 19/30\n",
            "20/20 [==============================] - 3s 162ms/step - loss: 0.0315 - accuracy: 0.9936\n",
            "Epoch 20/30\n",
            "20/20 [==============================] - 4s 198ms/step - loss: 0.0403 - accuracy: 0.9904\n",
            "Epoch 21/30\n",
            "20/20 [==============================] - 3s 131ms/step - loss: 0.0320 - accuracy: 0.9952\n",
            "Epoch 22/30\n",
            "20/20 [==============================] - 3s 132ms/step - loss: 0.0426 - accuracy: 0.9904\n",
            "Epoch 23/30\n",
            "20/20 [==============================] - 5s 226ms/step - loss: 0.0511 - accuracy: 0.9887\n",
            "Epoch 24/30\n",
            "20/20 [==============================] - 3s 132ms/step - loss: 0.0451 - accuracy: 0.9920\n",
            "Epoch 25/30\n",
            "20/20 [==============================] - 3s 134ms/step - loss: 0.0331 - accuracy: 0.9936\n",
            "Epoch 26/30\n",
            "20/20 [==============================] - 3s 142ms/step - loss: 0.0256 - accuracy: 0.9952\n",
            "Epoch 27/30\n",
            "20/20 [==============================] - 3s 152ms/step - loss: 0.0330 - accuracy: 0.9904\n",
            "Epoch 28/30\n",
            "20/20 [==============================] - 3s 133ms/step - loss: 0.0157 - accuracy: 0.9968\n",
            "Epoch 29/30\n",
            "20/20 [==============================] - 3s 135ms/step - loss: 0.0299 - accuracy: 0.9936\n",
            "Epoch 30/30\n",
            "20/20 [==============================] - 4s 190ms/step - loss: 0.0301 - accuracy: 0.9952\n"
          ]
        }
      ]
    },
    {
      "cell_type": "code",
      "source": [
        "model.save('/content/drive/MyDrive/FACE/FACE_train/FACE_train.h5')"
      ],
      "metadata": {
        "id": "Lf1WqqSAJExV"
      },
      "execution_count": 29,
      "outputs": []
    },
    {
      "cell_type": "code",
      "source": [
        "# Đánh giá độ chính xác của mô hình \n",
        "Score=model.evaluate(training_set,verbose=0)\n",
        "print('Train Loss', Score[0])\n",
        "print('Train Accuracy', Score[1])"
      ],
      "metadata": {
        "colab": {
          "base_uri": "https://localhost:8080/"
        },
        "id": "wzTNbPpXmUJ5",
        "outputId": "6e69838d-d462-4a9b-f948-1488716300b9"
      },
      "execution_count": 30,
      "outputs": [
        {
          "output_type": "stream",
          "name": "stdout",
          "text": [
            "Train Loss 0.014500831253826618\n",
            "Train Accuracy 0.9967845678329468\n"
          ]
        }
      ]
    },
    {
      "cell_type": "code",
      "source": [
        "# Vẽ đồ thị giữa số lần học (Epochs) và độ chính xác (Accuracy)\n",
        "plt.plot(history.history['accuracy'])\n",
        "plt.title('Model Accuracy')\n",
        "plt.ylabel('Accuracy')\n",
        "plt.xlabel('Epochs')\n",
        "plt.legend(['Train'])\n",
        "plt.show"
      ],
      "metadata": {
        "colab": {
          "base_uri": "https://localhost:8080/",
          "height": 489
        },
        "id": "WBeba9jbo5wW",
        "outputId": "fd91857f-e6d6-4f48-f2fb-69ae555be0cb"
      },
      "execution_count": 31,
      "outputs": [
        {
          "output_type": "execute_result",
          "data": {
            "text/plain": [
              "<function matplotlib.pyplot.show(close=None, block=None)>"
            ]
          },
          "metadata": {},
          "execution_count": 31
        },
        {
          "output_type": "display_data",
          "data": {
            "text/plain": [
              "<Figure size 640x480 with 1 Axes>"
            ],
            "image/png": "[encoded data removed]"
          },
          "metadata": {}
        }
      ]
    },
    {
      "cell_type": "code",
      "source": [
        "model1= load_model('/content/drive/MyDrive/FACE/FACE_train/FACE_train.h5')"
      ],
      "metadata": {
        "id": "sqtOxQ5YpMD1"
      },
      "execution_count": 33,
      "outputs": []
    },
    {
      "cell_type": "code",
      "source": [
        "test=\"/content/drive/MyDrive/FACE/FACE_train/FACE_test\"\n",
        "\n",
        "for i in os.listdir(test):\n",
        "  img=load_img(test+'/'+i,target_size=(30,40))\n",
        "  plt.imshow(img)\n",
        "  img=img_to_array(img)\n",
        "  img=img.astype('float32')\n",
        "  img=img/255\n",
        "  img=np.expand_dims(img,axis=0)\n",
        "  result=(model1.predict(img).argmax())\n",
        "  class_name=['Tran Nguyen Bao Thai','Nguyen Chi Loc','Phan Duy Nhat','','Pham Hoai Phong','Trần Ngọc Hiểu','Doan Nguyen Hoang','Ngo Nhut Sang','Nguyen Quang Phuc','Vi Quoc Trung', 'Hoang Tan Dat','Nguyen Tan Phat', 'Vo Trong Luan', 'Nguyen Viet Ha']\n",
        "  print('Đây là : {}'.format(class_name[result]))\n",
        "  plt.show()\n"
      ],
      "metadata": {
        "colab": {
          "base_uri": "https://localhost:8080/",
          "height": 1000
        },
        "id": "r5_8txz2pcM2",
        "outputId": "25327a1c-8cdd-4262-8edf-eb3ef0fb3515"
      },
      "execution_count": 34,
      "outputs": [
        {
          "output_type": "stream",
          "name": "stdout",
          "text": [
            "1/1 [==============================] - 0s 124ms/step\n",
            "Đây là : Hoang Tan Dat\n"
          ]
        },
        {
          "output_type": "display_data",
          "data": {
            "text/plain": [
              "<Figure size 640x480 with 1 Axes>"
            ],
            "image/png": "[encoded data removed]"
          },
          "metadata": {}
        },
        {
          "output_type": "stream",
          "name": "stdout",
          "text": [
            "1/1 [==============================] - 0s 28ms/step\n",
            "Đây là : Nguyen Chi Loc\n"
          ]
        },
        {
          "output_type": "display_data",
          "data": {
            "text/plain": [
              "<Figure size 640x480 with 1 Axes>"
            ],
            "image/png": "[encoded data removed]"
          },
          "metadata": {}
        },
        {
          "output_type": "stream",
          "name": "stdout",
          "text": [
            "1/1 [==============================] - 0s 21ms/step\n",
            "Đây là : \n"
          ]
        },
        {
          "output_type": "display_data",
          "data": {
            "text/plain": [
              "<Figure size 640x480 with 1 Axes>"
            ],
            "image/png": "[encoded data removed]"
          },
          "metadata": {}
        }
      ]
    }
  ]
}